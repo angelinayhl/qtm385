{
 "cells": [
  {
   "cell_type": "code",
   "execution_count": 1,
   "metadata": {},
   "outputs": [
    {
     "ename": "NameError",
     "evalue": "name 'Optional' is not defined",
     "output_type": "error",
     "traceback": [
      "\u001b[0;31m---------------------------------------------------------------------------\u001b[0m",
      "\u001b[0;31mNameError\u001b[0m                                 Traceback (most recent call last)",
      "\u001b[0;32m<ipython-input-1-a9f351eeec12>\u001b[0m in \u001b[0;36m<module>\u001b[0;34m\u001b[0m\n\u001b[1;32m      5\u001b[0m \u001b[0;34m\u001b[0m\u001b[0m\n\u001b[1;32m      6\u001b[0m \u001b[0;31m# normalize class time to military time for afternoon classes\u001b[0m\u001b[0;34m\u001b[0m\u001b[0;34m\u001b[0m\u001b[0m\n\u001b[0;32m----> 7\u001b[0;31m \u001b[0;32mdef\u001b[0m \u001b[0mnorm_time\u001b[0m\u001b[0;34m(\u001b[0m\u001b[0mhour\u001b[0m\u001b[0;34m:\u001b[0m \u001b[0mstr\u001b[0m\u001b[0;34m,\u001b[0m \u001b[0mminute\u001b[0m\u001b[0;34m:\u001b[0m \u001b[0mstr\u001b[0m\u001b[0;34m,\u001b[0m \u001b[0mperiod\u001b[0m\u001b[0;34m:\u001b[0m \u001b[0mOptional\u001b[0m\u001b[0;34m[\u001b[0m\u001b[0mstr\u001b[0m\u001b[0;34m]\u001b[0m\u001b[0;34m=\u001b[0m\u001b[0;32mNone\u001b[0m\u001b[0;34m)\u001b[0m \u001b[0;34m->\u001b[0m \u001b[0mint\u001b[0m\u001b[0;34m:\u001b[0m\u001b[0;34m\u001b[0m\u001b[0m\n\u001b[0m\u001b[1;32m      8\u001b[0m     \u001b[0mh\u001b[0m \u001b[0;34m=\u001b[0m \u001b[0mint\u001b[0m\u001b[0;34m(\u001b[0m\u001b[0mhour\u001b[0m\u001b[0;34m)\u001b[0m\u001b[0;34m\u001b[0m\u001b[0m\n\u001b[1;32m      9\u001b[0m     \u001b[0mm\u001b[0m \u001b[0;34m=\u001b[0m \u001b[0mint\u001b[0m\u001b[0;34m(\u001b[0m\u001b[0mminute\u001b[0m\u001b[0;34m)\u001b[0m\u001b[0;34m\u001b[0m\u001b[0m\n",
      "\u001b[0;31mNameError\u001b[0m: name 'Optional' is not defined"
     ]
    }
   ],
   "source": [
    "import requests\n",
    "from bs4 import BeautifulSoup\n",
    "import re\n",
    "from typing import Optional, Dict, Tuple\n",
    "\n",
    "# normalize class time to military time for afternoon classes\n",
    "def norm_time(hour: str, minute: str, period: Optional[str]=None) -> int:\n",
    "    h = int(hour)\n",
    "    m = int(minute)\n",
    "\n",
    "    if period and period[0].upper() == 'P':\n",
    "        h += 12\n",
    "\n",
    "    return h * 100 + m\n",
    "# nromalize day into binary form\n",
    "def norm_days(days: str) -> int:\n",
    "    DAYS = [('M', 0), ('TU', 1), ('W', 2), ('TH', 3), ('F', 4)]\n",
    "    days = days.upper()\n",
    "    b = ['0'] * 5\n",
    "\n",
    "    for d, i in DAYS:\n",
    "        if d in days:\n",
    "            b[i] = '1'\n",
    "            days = days.replace(d, '')\n",
    "    \n",
    "    if 'T' in days:\n",
    "        b[1] = '1'\n",
    "        days = days.replace('T', '')\n",
    "\n",
    "    return int(''.join(b), 2)\n",
    "\n",
    "\n",
    "\n",
    "def extract_exam_schedule(url) -> Dict[Tuple[int, int], Tuple[str, str, str]]:\n",
    "    r = requests.get(url)\n",
    "    html = BeautifulSoup(r.text, 'html.parser')\n",
    "    tbody = html.find('tbody')\n",
    "    schedule = {}\n",
    "\n",
    "    for tr in tbody.find_all('tr'):\n",
    "        tds = tr.find_all('td')\n",
    "        class_time = tds[0].string.strip()\n",
    "        m = TIME_DAYS.match(class_time)\n",
    "        if m:\n",
    "            time = norm_time(int(m.group(1)), int(m.group(2)))\n",
    "            days = norm_days(m.group(3))\n",
    "            key  = (time, days)\n",
    "            exam_day  = tds[1].string.strip()\n",
    "            exam_date = tds[2].string.strip()\n",
    "            exam_time = tds[3].string.strip()\n",
    "            schedule[key] = (exam_day, exam_date, exam_time)\n",
    "\n",
    "    return schedule\n",
    "\n",
    "\n",
    "if __name__ == '__main__':\n",
    "    url = 'http://registrar.emory.edu/faculty-staff/exam-schedule/spring-2019.html'\n",
    "    exam_schedule = extract_exam_schedule(url)\n",
    "    for k, v in exam_schedule.items():\n",
    "        print('%14s : %s' % (k, v))"
   ]
  },
  {
   "cell_type": "code",
   "execution_count": null,
   "metadata": {},
   "outputs": [],
   "source": []
  }
 ],
 "metadata": {
  "kernelspec": {
   "display_name": "Python 3",
   "language": "python",
   "name": "python3"
  },
  "language_info": {
   "codemirror_mode": {
    "name": "ipython",
    "version": 3
   },
   "file_extension": ".py",
   "mimetype": "text/x-python",
   "name": "python",
   "nbconvert_exporter": "python",
   "pygments_lexer": "ipython3",
   "version": "3.6.6"
  }
 },
 "nbformat": 4,
 "nbformat_minor": 2
}
