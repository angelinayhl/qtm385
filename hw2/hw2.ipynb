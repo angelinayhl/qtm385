{
 "cells": [
  {
   "cell_type": "code",
   "execution_count": 280,
   "metadata": {},
   "outputs": [],
   "source": [
    "# This is my own work: Huilan You \n",
    "\n",
    "# ========================================================================\n",
    "# Copyright 2018 Emory University\n",
    "#\n",
    "# Licensed under the Apache License, Version 2.0 (the \"License\");\n",
    "# you may not use this file except in compliance with the License.\n",
    "# You may obtain a copy of the License at\n",
    "#\n",
    "#     http://www.apache.org/licenses/LICENSE-2.0\n",
    "#\n",
    "# Unless required by applicable law or agreed to in writing, software\n",
    "# distributed under the License is distributed on an \"AS IS\" BASIS,\n",
    "# WITHOUT WARRANTIES OR CONDITIONS OF ANY KIND, either express or implied.\n",
    "# See the License for the specific language governing permissions and\n",
    "# limitations under the License.\n",
    "# ========================================================================\n",
    "import csv\n",
    "from types import SimpleNamespace\n",
    "from collections import Counter"
   ]
  },
  {
   "cell_type": "code",
   "execution_count": 281,
   "metadata": {},
   "outputs": [],
   "source": [
    "def load_course_info(csv_file):\n",
    "    def skip(i, row):\n",
    "        return i == 0 or int(row[11]) == 0 or row[12].strip() == '' or row[14].strip() != 'Active'\n",
    "\n",
    "    def info(row):\n",
    "        # term is normalized to (year, term_id) (e.g., 5181 -> (2018, 1))\n",
    "        # term_id = 1: Spring, 6: Summer, 9: Fall\n",
    "        r = row[0]\n",
    "        term = (2000 + int((int(r) - 5000) / 10), int(r[-1]))\n",
    "\n",
    "        # name = lastname,firstname\n",
    "        r = row[12].split(',')\n",
    "        instructor = (r[0].strip(), r[1].strip())\n",
    "\n",
    "        return SimpleNamespace(\n",
    "            term=term,\n",
    "            subject=row[3].strip(),\n",
    "            catalog=row[4].strip(),\n",
    "            section=row[5].strip(),\n",
    "            title=row[6].strip(),\n",
    "            min_hours=int(row[8]),\n",
    "            max_hours=int(row[9]),\n",
    "            enrollment=int(row[11]),\n",
    "            instructor=instructor)\n",
    "\n",
    "    with open(csv_file) as fin:\n",
    "        reader = csv.reader(fin)\n",
    "        course_info = [info(row) for i, row in enumerate(reader) if not skip(i, row)]\n",
    "\n",
    "    return course_info\n"
   ]
  },
  {
   "cell_type": "code",
   "execution_count": 282,
   "metadata": {},
   "outputs": [],
   "source": [
    "\n",
    "def course_by_terms(course_info):\n",
    "    fall_courses=0;\n",
    "    fall_list = []\n",
    "    spring_list = []\n",
    "    summer_list = []\n",
    "    for c in course_info:\n",
    "        if c.term[1] == 9:\n",
    "            fall_courses = (*c.term, c.subject, c.catalog)\n",
    "            fall_list.append(fall_courses)\n",
    "        elif c.term[1] == 1:\n",
    "            spring_courses = (*c.term, c.subject, c.catalog)\n",
    "            spring_list.append(spring_courses)\n",
    "        elif c.term[1] == 6:\n",
    "            summer_courses = (*c.term, c.subject, c.catalog)\n",
    "            summer_list.append(summer_courses) \n",
    "  \n",
    "    return(Counter(t[2:] for t in fall_list), Counter(t[2:] for t in spring_list),Counter(t[2:] for t in summer_list))\n"
   ]
  },
  {
   "cell_type": "code",
   "execution_count": 296,
   "metadata": {},
   "outputs": [
    {
     "data": {
      "text/plain": [
       "[{'CS 170': (0.5047619047619047, 0.42857142857142855, 0.06666666666666667)},\n",
       " {'CS 171': (0.34210526315789475, 0.4473684210526316, 0.21052631578947367)},\n",
       " {'CS 325': (0.14285714285714285, 0.8571428571428571, 0)},\n",
       " {'CS 375R': (0.3333333333333333, 0.6666666666666666, 0)},\n",
       " {'CS 497R': (0.48, 0.48, 0.04)},\n",
       " {'CS 557': (0.6666666666666666, 0.3333333333333333, 0)},\n",
       " {'CS 572': (0.2, 0.8, 0)},\n",
       " {'CS 596R': (0.4, 0.2, 0.4)},\n",
       " {'CS 597R': (0.3655913978494624, 0.4838709677419355, 0.15053763440860216)},\n",
       " {'CS 598R': (0.42592592592592593, 0.48148148148148145, 0.09259259259259259)},\n",
       " {'CS 599R': (0.375, 0.575, 0.05)},\n",
       " {'CS 700R': (0.47619047619047616, 0.5238095238095238, 0)},\n",
       " {'CS 730': (0.3333333333333333, 0.6666666666666666, 0)},\n",
       " {'CS 799R': (0.4166666666666667, 0.475, 0.10833333333333334)},\n",
       " {'CS 130R': (0.3333333333333333, 0.6666666666666666, 0)},\n",
       " {'CS 370': (0.14285714285714285, 0.8571428571428571, 0)},\n",
       " {'CS 255': (0.5882352941176471, 0.4117647058823529, 0)},\n",
       " {'CS 377': (0.7692307692307693, 0.23076923076923078, 0)},\n",
       " {'CS 558': (0.3333333333333333, 0.6666666666666666, 0)},\n",
       " {'CS 561': (1.0, 0, 0)},\n",
       " {'CS 584': (0.4666666666666667, 0.5333333333333333, 0)},\n",
       " {'CS 590': (1.0, 0, 0)},\n",
       " {'CS 323': (0.3333333333333333, 0.6666666666666666, 0)},\n",
       " {'CS 571': (0.3333333333333333, 0.6666666666666666, 0)},\n",
       " {'CS 534': (0.5, 0.5, 0)},\n",
       " {'CS 574': (1.0, 0, 0)},\n",
       " {'CS 224': (0.6, 0.35, 0.05)},\n",
       " {'CS 485': (0.9230769230769231, 0.07692307692307693, 0)},\n",
       " {'CS 540': (1.0, 0, 0)},\n",
       " {'CS 153': (0.4444444444444444, 0.5555555555555556, 0)},\n",
       " {'CS 524': (0.8888888888888888, 0.1111111111111111, 0)},\n",
       " {'CS 526': (0.16666666666666666, 0.8333333333333334, 0)},\n",
       " {'CS 740': (1.0, 0, 0)},\n",
       " {'CS 797R': (0.5, 0.4, 0.1)},\n",
       " {'CS 570': (0.75, 0.25, 0)},\n",
       " {'CS 155': (0.7777777777777778, 0.2222222222222222, 0)},\n",
       " {'CS 563': (1.0, 0, 0)},\n",
       " {'CS 171Z': (1.0, 0, 0)},\n",
       " {'CS 456': (1.0, 0, 0)},\n",
       " {'CS 556': (1.0, 0, 0)},\n",
       " {'CS 450': (1.0, 0, 0)},\n",
       " {'CS 551': (1.0, 0, 0)},\n",
       " {'CS 190': (0.7, 0.3, 0)},\n",
       " {'CS 110': (0.4444444444444444, 0.4444444444444444, 0.1111111111111111)},\n",
       " {'CS 555': (0.25, 0.75, 0)},\n",
       " {'CS 453': (1.0, 0, 0)},\n",
       " {'CS 573': (0.3333333333333333, 0.6666666666666666, 0)},\n",
       " {'CS 425': (0, 1.0, 0)},\n",
       " {'CS 495RW': (0, 1.0, 0)},\n",
       " {'CS 559': (0, 1.0, 0)},\n",
       " {'CS 355': (0, 1.0, 0)},\n",
       " {'CS 455': (0, 1.0, 0)},\n",
       " {'CS 495R': (0, 1.0, 0)},\n",
       " {'CS 554': (0, 1.0, 0)},\n",
       " {'CS 329': (0, 1.0, 0)},\n",
       " {'CS 424': (0, 1.0, 0)},\n",
       " {'CS 285': (0, 1.0, 0)},\n",
       " {'CS 452': (0, 1.0, 0)},\n",
       " {'CS 580': (0, 1.0, 0)},\n",
       " {'CS 720': (0, 1.0, 0)},\n",
       " {'CS 378': (0, 1.0, 0)}]"
      ]
     },
     "execution_count": 296,
     "metadata": {},
     "output_type": "execute_result"
    }
   ],
   "source": [
    "def course_trend(course_info):\n",
    "    \"\"\"\n",
    "    :param course_info: the output of load_course_info().\n",
    "    :return: a dictionary where the key is a course ID (e.g., 'CS170') and\n",
    "             the value is the likelihood of each course being offered in the Fall and Spring terms (e.g., (0.3, 0.7).\n",
    "    \"\"\"\n",
    "    \n",
    "# TODO: to be filled\n",
    "    courses=course_by_terms(course_info)\n",
    "    total_count={}\n",
    "\n",
    "    # make sure total covers all course since some classes only offer in one term \n",
    "    for course in courses[0]:\n",
    "        total=courses[0][course]+courses[1][course]+courses[2][course]\n",
    "        total_count[course]=total\n",
    "    for course in courses[1]:\n",
    "        total=courses[0][course]+courses[1][course]+courses[2][course]\n",
    "        if course not in total_count:\n",
    "            total_count[course]=total\n",
    "    for course in courses[2]:\n",
    "        total=courses[0][course]+courses[1][course]+courses[2][course]\n",
    "        if course not in total_count:\n",
    "            total_count[course]=total\n",
    "    fall_average={course:count/total_count[course] for course,count in courses[0].items()}\n",
    "    spring_average={course:count/total_count[course] for course,count in courses[1].items()}\n",
    "    summer_average={course:count/total_count[course] for course,count in courses[2].items()}\n",
    "\n",
    "    result=[]\n",
    "    for course in total_count:\n",
    "\n",
    "        result.append({' '.join(course):(fall_average[course] if course in fall_average else 0,spring_average[course] \\\n",
    "                                         if course in spring_average else 0,summer_average[course] \\\n",
    "                                         if course in summer_average else 0)})\n",
    "\n",
    "    print(result)\n",
    "return result "
   ]
  },
  {
   "cell_type": "code",
   "execution_count": 285,
   "metadata": {},
   "outputs": [],
   "source": [
    "def is_research_course(catalog):\n",
    "    return catalog != '130R' and 'R' in catalog\n",
    "\n",
    "def is_undergraduate_course(catalog):\n",
    "    return int(catalog[0])<5\n",
    "\n"
   ]
  },
  {
   "cell_type": "code",
   "execution_count": 286,
   "metadata": {},
   "outputs": [],
   "source": [
    "\n",
    "def special_topics(course_info, include_research=False, include_undergraduate=False):\n",
    "    \"\"\"\n",
    "    :param course_info: the output of load_course_info().\n",
    "    :return: a dictionary where the key is a professor name (e.g., 'Jinho D Choi') and the value is the professor's\n",
    "             special graduate courses excluding research courses ranked in descending order.\n",
    "    \"\"\"\n",
    "    d = {}\n",
    "    for c in course_info:\n",
    "        if (include_research or not is_research_course(c.catalog)) and \\\n",
    "        (include_undergraduate or not is_undergraduate_course(c.catalog)) :\n",
    "            key = c.instructor\n",
    "            val = (c.subject+c.catalog)\n",
    "            if key in d: d[key].add(val)\n",
    "            else:\n",
    "                  d[key] = {val}\n",
    "                    \n",
    "    # Change the set to list in a reversed order\n",
    "    for key, value in d.items(): \n",
    "        value=sorted(list(value),reverse=True)\n",
    "        d[key]=value\n",
    "\n",
    "    \n",
    "    return d\n",
    "    \n",
    "       \n"
   ]
  },
  {
   "cell_type": "code",
   "execution_count": 287,
   "metadata": {},
   "outputs": [],
   "source": [
    "def courses_by_instructors(course_info, include_research=False, include_undergraduate=False):\n",
    "    d = {}\n",
    "    for c in course_info:\n",
    "        if (include_research or not is_research_course(c.catalog)) and \\\n",
    "        (include_undergraduate or not is_undergraduate_course(c.catalog)):\n",
    "            key = c.instructor\n",
    "            val = (*c.term, c.subject, c.catalog)\n",
    "            if key in d: d[key].add(val)\n",
    "            else: d[key] = {val}\n",
    "\n",
    "    return {k: Counter([t[2:] for t in v]) for k, v in d.items()}\n",
    "\n",
    "\n"
   ]
  },
  {
   "cell_type": "code",
   "execution_count": 288,
   "metadata": {},
   "outputs": [
    {
     "name": "stdout",
     "output_type": "stream",
     "text": [
      "Counter({('CS', '584'): 18, ('CS', '730'): 3, ('CS', '590'): 3, ('CS', '534'): 3, ('CS', '540'): 3, ('CS', '572'): 2, ('CS', '571'): 2, ('CS', '554'): 2, ('CS', '558'): 2, ('CS', '574'): 2, ('CS', '570'): 2, ('CS', '557'): 1, ('CS', '559'): 1, ('CS', '561'): 1, ('CS', '524'): 1, ('CS', '526'): 1, ('CS', '740'): 1, ('CS', '563'): 1, ('CS', '556'): 1, ('CS', '551'): 1, ('CS', '580'): 1, ('CS', '720'): 1, ('CS', '555'): 1, ('CS', '573'): 1})\n"
     ]
    }
   ],
   "source": [
    "def professor_frequency(prof_course_dict):\n",
    "    return Counter([k for v in prof_course_dict.values() for k in v.keys()])\n",
    "\n",
    "prof_freq = professor_frequency(prof_course_dict)\n",
    "print(prof_freq)"
   ]
  },
  {
   "cell_type": "code",
   "execution_count": 299,
   "metadata": {},
   "outputs": [
    {
     "data": {
      "image/png": "[encoded data removed]",
      "text/plain": [
       "<Figure size 432x288 with 1 Axes>"
      ]
     },
     "metadata": {
      "needs_background": "light"
     },
     "output_type": "display_data"
    },
    {
     "data": {
      "image/png": "[encoded data removed]",
      "text/plain": [
       "<Figure size 1008x720 with 1 Axes>"
      ]
     },
     "metadata": {
      "needs_background": "light"
     },
     "output_type": "display_data"
    }
   ],
   "source": [
    "import matplotlib.pyplot as plt\n",
    "import math\n",
    "def vector_plot(course_info):\n",
    "    \"\"\"\n",
    "    :param course_info: the output of load_course_info().\n",
    "    \"\"\"\n",
    "    prof_course_dict = courses_by_instructors(course_info)\n",
    "    prof_freq = professor_frequency(prof_course_dict)\n",
    "    N = len(prof_course_dict)\n",
    "    course_dict = {c: i for i, c in enumerate(sorted(list(prof_freq.keys())))}\n",
    "    p2v = {}\n",
    "    \n",
    "    for prof_name, counts in prof_course_dict.items():\n",
    "        vec = np.zeros(len(course_dict))\n",
    "        \n",
    "        for k, v in counts.items():\n",
    "            if k in course_dict:\n",
    "                i = course_dict[k]\n",
    "                vec[i] = v * math.log(N / prof_freq[k])\n",
    "        \n",
    "        p2v[prof_name] = vec\n",
    "profs = sorted(p2v.keys())\n",
    "vectors = np.array([p2v[p] for p in profs])\n",
    "from sklearn.manifold import TSNE\n",
    "\n",
    "xy = TSNE(n_components=2).fit_transform(vectors)\n",
    "fig, ax = plt.subplots()\n",
    "ax.scatter(xy[:,0], xy[:,1])\n",
    "plt.show()\n",
    "\n",
    "fig, ax = plt.subplots()\n",
    "fig.set_size_inches(14, 10)\n",
    "\n",
    "x = xy[:,0]\n",
    "y = xy[:,1]\n",
    "ax.scatter(x, y)\n",
    "\n",
    "for i, p in enumerate(profs):\n",
    "    ax.annotate(p[0], (x[i], y[i]))\n",
    "    \n",
    "plt.show()"
   ]
  },
  {
   "cell_type": "code",
   "execution_count": 298,
   "metadata": {},
   "outputs": [
    {
     "name": "stdout",
     "output_type": "stream",
     "text": [
      "[{'CS 170': (0.5047619047619047, 0.42857142857142855, 0.06666666666666667)}, {'CS 171': (0.34210526315789475, 0.4473684210526316, 0.21052631578947367)}, {'CS 325': (0.14285714285714285, 0.8571428571428571, 0)}, {'CS 375R': (0.3333333333333333, 0.6666666666666666, 0)}, {'CS 497R': (0.48, 0.48, 0.04)}, {'CS 557': (0.6666666666666666, 0.3333333333333333, 0)}, {'CS 572': (0.2, 0.8, 0)}, {'CS 596R': (0.4, 0.2, 0.4)}, {'CS 597R': (0.3655913978494624, 0.4838709677419355, 0.15053763440860216)}, {'CS 598R': (0.42592592592592593, 0.48148148148148145, 0.09259259259259259)}, {'CS 599R': (0.375, 0.575, 0.05)}, {'CS 700R': (0.47619047619047616, 0.5238095238095238, 0)}, {'CS 730': (0.3333333333333333, 0.6666666666666666, 0)}, {'CS 799R': (0.4166666666666667, 0.475, 0.10833333333333334)}, {'CS 130R': (0.3333333333333333, 0.6666666666666666, 0)}, {'CS 370': (0.14285714285714285, 0.8571428571428571, 0)}, {'CS 255': (0.5882352941176471, 0.4117647058823529, 0)}, {'CS 377': (0.7692307692307693, 0.23076923076923078, 0)}, {'CS 558': (0.3333333333333333, 0.6666666666666666, 0)}, {'CS 561': (1.0, 0, 0)}, {'CS 584': (0.4666666666666667, 0.5333333333333333, 0)}, {'CS 590': (1.0, 0, 0)}, {'CS 323': (0.3333333333333333, 0.6666666666666666, 0)}, {'CS 571': (0.3333333333333333, 0.6666666666666666, 0)}, {'CS 534': (0.5, 0.5, 0)}, {'CS 574': (1.0, 0, 0)}, {'CS 224': (0.6, 0.35, 0.05)}, {'CS 485': (0.9230769230769231, 0.07692307692307693, 0)}, {'CS 540': (1.0, 0, 0)}, {'CS 153': (0.4444444444444444, 0.5555555555555556, 0)}, {'CS 524': (0.8888888888888888, 0.1111111111111111, 0)}, {'CS 526': (0.16666666666666666, 0.8333333333333334, 0)}, {'CS 740': (1.0, 0, 0)}, {'CS 797R': (0.5, 0.4, 0.1)}, {'CS 570': (0.75, 0.25, 0)}, {'CS 155': (0.7777777777777778, 0.2222222222222222, 0)}, {'CS 563': (1.0, 0, 0)}, {'CS 171Z': (1.0, 0, 0)}, {'CS 456': (1.0, 0, 0)}, {'CS 556': (1.0, 0, 0)}, {'CS 450': (1.0, 0, 0)}, {'CS 551': (1.0, 0, 0)}, {'CS 190': (0.7, 0.3, 0)}, {'CS 110': (0.4444444444444444, 0.4444444444444444, 0.1111111111111111)}, {'CS 555': (0.25, 0.75, 0)}, {'CS 453': (1.0, 0, 0)}, {'CS 573': (0.3333333333333333, 0.6666666666666666, 0)}, {'CS 425': (0, 1.0, 0)}, {'CS 495RW': (0, 1.0, 0)}, {'CS 559': (0, 1.0, 0)}, {'CS 355': (0, 1.0, 0)}, {'CS 455': (0, 1.0, 0)}, {'CS 495R': (0, 1.0, 0)}, {'CS 554': (0, 1.0, 0)}, {'CS 329': (0, 1.0, 0)}, {'CS 424': (0, 1.0, 0)}, {'CS 285': (0, 1.0, 0)}, {'CS 452': (0, 1.0, 0)}, {'CS 580': (0, 1.0, 0)}, {'CS 720': (0, 1.0, 0)}, {'CS 378': (0, 1.0, 0)}]\n",
      "{('Agichtein', 'Yevgeny Eugene'): ['CS730', 'CS584', 'CS572', 'CS571', 'CS557'], ('Arnold', 'Dorian'): ['CS559'], ('Cheung', 'Shun Yan'): ['CS590', 'CS584', 'CS561', 'CS558', 'CS554'], ('Choi', 'Jinho D'): ['CS571'], ('Clifford', 'Gari D.'): ['CS584'], ('Cooper', 'Lee Alex Donald'): ['CS574', 'CS534'], ('Doloc Mihu', 'Anca'): ['CS540'], ('Fossati', 'David'): ['CS590'], ('Gadani', 'Avani'): ['CS584'], ('Grigni', 'Michelangelo'): ['CS740', 'CS526', 'CS524'], ('Gunay', 'Cengiz'): ['CS570', 'CS540'], ('Gutman', 'David A'): ['CS584'], ('Ho', 'Joyce C'): ['CS584', 'CS534'], ('Kong', 'Jun'): ['CS584', 'CS563'], ('Kotov', 'Alexander'): ['CS572'], ('Lu', 'James'): ['CS590', 'CS556'], ('Mandelberg', 'Kenneth I'): ['CS580', 'CS551'], ('Nemati', 'Shamim'): ['CS584'], ('Parekh', 'Ojas D.'): ['CS720'], ('Ruthotto', 'Lars'): ['CS584'], ('Saltz', 'Joel H'): ['CS584'], ('Sharma', 'Ashish'): ['CS584'], ('Smith', 'Joan A'): ['CS584', 'CS540'], ('Sunderam', 'V S'): ['CS584', 'CS558', 'CS555'], ('Taylor', 'James Peter'): ['CS584', 'CS574'], ('Tirado-Ramos', 'Alfredo'): ['CS584'], ('Vigfusson', 'Ymir'): ['CS584'], ('Wang', 'Fusheng'): ['CS730', 'CS554'], ('Widener', 'Patrick McCall'): ['CS584'], ('Xiong', 'Li'): ['CS730', 'CS584', 'CS573', 'CS570'], ('Yu', 'Tianwei'): ['CS534']}\n",
      "None\n"
     ]
    }
   ],
   "source": [
    "if __name__ == '__main__':\n",
    "    csv_file = 'cs_courses_2008_2018.csv'\n",
    "    course_info = load_course_info(csv_file)\n",
    "    trend = course_trend(course_info)\n",
    "    topics = special_topics(course_info)\n",
    "    vector_plot(course_info)\n",
    "    print(topics)\n",
    "    print(trend)"
   ]
  },
  {
   "cell_type": "code",
   "execution_count": null,
   "metadata": {},
   "outputs": [],
   "source": []
  }
 ],
 "metadata": {
  "kernelspec": {
   "display_name": "Python 3",
   "language": "python",
   "name": "python3"
  },
  "language_info": {
   "codemirror_mode": {
    "name": "ipython",
    "version": 3
   },
   "file_extension": ".py",
   "mimetype": "text/x-python",
   "name": "python",
   "nbconvert_exporter": "python",
   "pygments_lexer": "ipython3",
   "version": "3.6.6"
  }
 },
 "nbformat": 4,
 "nbformat_minor": 2
}
